{
 "cells": [
  {
   "cell_type": "code",
   "execution_count": 1,
   "id": "78785747",
   "metadata": {},
   "outputs": [],
   "source": [
    "import psycopg2"
   ]
  },
  {
   "cell_type": "code",
   "execution_count": 2,
   "id": "52eb257d",
   "metadata": {},
   "outputs": [
    {
     "name": "stdout",
     "output_type": "stream",
     "text": [
      "Database connected!\n"
     ]
    }
   ],
   "source": [
    "try:\n",
    "    con = psycopg2.connect(database=\"DATABASE_NAME\",user=\"USER_NAME\",password='PASSWORD_HERE',host=\"HOST_NAME_HERE\",port=\"PORT_NUMBER_HERE\")\n",
    "    cur = con.cursor()\n",
    "    print(\"Database connected!\")\n",
    "except Exception as e:\n",
    "    print(e)"
   ]
  },
  {
   "cell_type": "code",
   "execution_count": null,
   "id": "fd281e8b",
   "metadata": {},
   "outputs": [
    {
     "name": "stdout",
     "output_type": "stream",
     "text": [
      "Current year: 2008\n"
     ]
    }
   ],
   "source": [
    "import csv\n",
    "\n",
    "# For some reason light cast does not have 2008-2009 data, why? I need to rereun the query with Bournoulli\n",
    "years = [2007,2008,2009,2010,2011,2012,2013,2014,2015,2016,2017,2018,2019,2020,2021]\n",
    "try:\n",
    "    with open('data_finance.csv',mode='w') as f:\n",
    "        writer = csv.writer(f)\n",
    "        for year in years:\n",
    "            print(f'Current year: {year}')\n",
    "            cur.execute(f\"\"\"SELECT * FROM skill TABLESAMPLE Bournoulli(0.6) WHERE skillclusterfamily='Finance' AND DATE_PART('YEAR',skill.jobdate)={year}\"\"\")\n",
    "            rows = cur.fetchall()\n",
    "            writer.writerows(rows)\n",
    "except Exception as e:\n",
    "    print(e)\n",
    "    con.rollback()\n"
   ]
  }
 ],
 "metadata": {
  "kernelspec": {
   "display_name": "Python 3 (ipykernel)",
   "language": "python",
   "name": "python3"
  },
  "language_info": {
   "codemirror_mode": {
    "name": "ipython",
    "version": 3
   },
   "file_extension": ".py",
   "mimetype": "text/x-python",
   "name": "python",
   "nbconvert_exporter": "python",
   "pygments_lexer": "ipython3",
   "version": "3.10.11"
  }
 },
 "nbformat": 4,
 "nbformat_minor": 5
}
